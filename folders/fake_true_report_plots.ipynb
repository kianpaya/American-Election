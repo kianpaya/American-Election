{
  "nbformat": 4,
  "nbformat_minor": 0,
  "metadata": {
    "colab": {
      "provenance": []
    },
    "kernelspec": {
      "name": "python3",
      "display_name": "Python 3"
    },
    "language_info": {
      "name": "python"
    }
  },
  "cells": [
    {
      "cell_type": "code",
      "source": [
        "from google.colab import drive\n",
        "drive.mount('/content/gdrive')\n",
        "import pandas as pd\n",
        "import matplotlib.pyplot as plt\n",
        "%matplotlib inline"
      ],
      "metadata": {
        "colab": {
          "base_uri": "https://localhost:8080/"
        },
        "id": "XXBurEHrouJ5",
        "outputId": "9e20b7df-c046-4193-d0c9-eb389663c477"
      },
      "execution_count": null,
      "outputs": [
        {
          "output_type": "stream",
          "name": "stdout",
          "text": [
            "Mounted at /content/gdrive\n"
          ]
        }
      ]
    },
    {
      "cell_type": "code",
      "execution_count": null,
      "metadata": {
        "id": "DkjJGaMvomuH"
      },
      "outputs": [],
      "source": [
        "cr = pd.read_csv('gdrive/MyDrive/fake_true_text_report.csv',index_col=0)"
      ]
    },
    {
      "cell_type": "code",
      "source": [
        "cr"
      ],
      "metadata": {
        "colab": {
          "base_uri": "https://localhost:8080/",
          "height": 426
        },
        "id": "xn8oNoKepjbk",
        "outputId": "18c86ef7-3a4d-4422-e842-52fb7bf4f92e"
      },
      "execution_count": null,
      "outputs": [
        {
          "output_type": "execute_result",
          "data": {
            "text/plain": [
              "                  Fake         True  accuracy     macro avg  weighted avg  \\\n",
              "precision     0.984190     0.979956  0.982183      0.982073      0.982188   \n",
              "recall        0.981972     0.982418  0.982183      0.982195      0.982183   \n",
              "f1-score      0.983080     0.981185  0.982183      0.982132      0.982184   \n",
              "support    7100.000000  6370.000000  0.982183  13470.000000  13470.000000   \n",
              "precision     0.966685     0.960539  0.963771      0.963612      0.963779   \n",
              "recall        0.964507     0.962951  0.963771      0.963729      0.963771   \n",
              "f1-score      0.965595     0.961743  0.963771      0.963669      0.963774   \n",
              "support    7100.000000  6370.000000  0.963771  13470.000000  13470.000000   \n",
              "precision     0.993791     0.985464  0.989809      0.989628      0.989840   \n",
              "recall        0.986771     0.993173  0.989809      0.989972      0.989809   \n",
              "f1-score      0.990269     0.989304  0.989809      0.989786      0.989811   \n",
              "support    7786.000000  7031.000000  0.989809  14817.000000  14817.000000   \n",
              "\n",
              "                         model  \n",
              "precision  Logestic Regression  \n",
              "recall     Logestic Regression  \n",
              "f1-score   Logestic Regression  \n",
              "support    Logestic Regression  \n",
              "precision          Naive Bayes  \n",
              "recall             Naive Bayes  \n",
              "f1-score           Naive Bayes  \n",
              "support            Naive Bayes  \n",
              "precision       Neural Netwoks  \n",
              "recall          Neural Netwoks  \n",
              "f1-score        Neural Netwoks  \n",
              "support         Neural Netwoks  "
            ],
            "text/html": [
              "\n",
              "  <div id=\"df-5eb003bf-d4c1-4d17-9aec-ef59f6ffbe36\">\n",
              "    <div class=\"colab-df-container\">\n",
              "      <div>\n",
              "<style scoped>\n",
              "    .dataframe tbody tr th:only-of-type {\n",
              "        vertical-align: middle;\n",
              "    }\n",
              "\n",
              "    .dataframe tbody tr th {\n",
              "        vertical-align: top;\n",
              "    }\n",
              "\n",
              "    .dataframe thead th {\n",
              "        text-align: right;\n",
              "    }\n",
              "</style>\n",
              "<table border=\"1\" class=\"dataframe\">\n",
              "  <thead>\n",
              "    <tr style=\"text-align: right;\">\n",
              "      <th></th>\n",
              "      <th>Fake</th>\n",
              "      <th>True</th>\n",
              "      <th>accuracy</th>\n",
              "      <th>macro avg</th>\n",
              "      <th>weighted avg</th>\n",
              "      <th>model</th>\n",
              "    </tr>\n",
              "  </thead>\n",
              "  <tbody>\n",
              "    <tr>\n",
              "      <th>precision</th>\n",
              "      <td>0.984190</td>\n",
              "      <td>0.979956</td>\n",
              "      <td>0.982183</td>\n",
              "      <td>0.982073</td>\n",
              "      <td>0.982188</td>\n",
              "      <td>Logestic Regression</td>\n",
              "    </tr>\n",
              "    <tr>\n",
              "      <th>recall</th>\n",
              "      <td>0.981972</td>\n",
              "      <td>0.982418</td>\n",
              "      <td>0.982183</td>\n",
              "      <td>0.982195</td>\n",
              "      <td>0.982183</td>\n",
              "      <td>Logestic Regression</td>\n",
              "    </tr>\n",
              "    <tr>\n",
              "      <th>f1-score</th>\n",
              "      <td>0.983080</td>\n",
              "      <td>0.981185</td>\n",
              "      <td>0.982183</td>\n",
              "      <td>0.982132</td>\n",
              "      <td>0.982184</td>\n",
              "      <td>Logestic Regression</td>\n",
              "    </tr>\n",
              "    <tr>\n",
              "      <th>support</th>\n",
              "      <td>7100.000000</td>\n",
              "      <td>6370.000000</td>\n",
              "      <td>0.982183</td>\n",
              "      <td>13470.000000</td>\n",
              "      <td>13470.000000</td>\n",
              "      <td>Logestic Regression</td>\n",
              "    </tr>\n",
              "    <tr>\n",
              "      <th>precision</th>\n",
              "      <td>0.966685</td>\n",
              "      <td>0.960539</td>\n",
              "      <td>0.963771</td>\n",
              "      <td>0.963612</td>\n",
              "      <td>0.963779</td>\n",
              "      <td>Naive Bayes</td>\n",
              "    </tr>\n",
              "    <tr>\n",
              "      <th>recall</th>\n",
              "      <td>0.964507</td>\n",
              "      <td>0.962951</td>\n",
              "      <td>0.963771</td>\n",
              "      <td>0.963729</td>\n",
              "      <td>0.963771</td>\n",
              "      <td>Naive Bayes</td>\n",
              "    </tr>\n",
              "    <tr>\n",
              "      <th>f1-score</th>\n",
              "      <td>0.965595</td>\n",
              "      <td>0.961743</td>\n",
              "      <td>0.963771</td>\n",
              "      <td>0.963669</td>\n",
              "      <td>0.963774</td>\n",
              "      <td>Naive Bayes</td>\n",
              "    </tr>\n",
              "    <tr>\n",
              "      <th>support</th>\n",
              "      <td>7100.000000</td>\n",
              "      <td>6370.000000</td>\n",
              "      <td>0.963771</td>\n",
              "      <td>13470.000000</td>\n",
              "      <td>13470.000000</td>\n",
              "      <td>Naive Bayes</td>\n",
              "    </tr>\n",
              "    <tr>\n",
              "      <th>precision</th>\n",
              "      <td>0.993791</td>\n",
              "      <td>0.985464</td>\n",
              "      <td>0.989809</td>\n",
              "      <td>0.989628</td>\n",
              "      <td>0.989840</td>\n",
              "      <td>Neural Netwoks</td>\n",
              "    </tr>\n",
              "    <tr>\n",
              "      <th>recall</th>\n",
              "      <td>0.986771</td>\n",
              "      <td>0.993173</td>\n",
              "      <td>0.989809</td>\n",
              "      <td>0.989972</td>\n",
              "      <td>0.989809</td>\n",
              "      <td>Neural Netwoks</td>\n",
              "    </tr>\n",
              "    <tr>\n",
              "      <th>f1-score</th>\n",
              "      <td>0.990269</td>\n",
              "      <td>0.989304</td>\n",
              "      <td>0.989809</td>\n",
              "      <td>0.989786</td>\n",
              "      <td>0.989811</td>\n",
              "      <td>Neural Netwoks</td>\n",
              "    </tr>\n",
              "    <tr>\n",
              "      <th>support</th>\n",
              "      <td>7786.000000</td>\n",
              "      <td>7031.000000</td>\n",
              "      <td>0.989809</td>\n",
              "      <td>14817.000000</td>\n",
              "      <td>14817.000000</td>\n",
              "      <td>Neural Netwoks</td>\n",
              "    </tr>\n",
              "  </tbody>\n",
              "</table>\n",
              "</div>\n",
              "      <button class=\"colab-df-convert\" onclick=\"convertToInteractive('df-5eb003bf-d4c1-4d17-9aec-ef59f6ffbe36')\"\n",
              "              title=\"Convert this dataframe to an interactive table.\"\n",
              "              style=\"display:none;\">\n",
              "        \n",
              "  <svg xmlns=\"http://www.w3.org/2000/svg\" height=\"24px\"viewBox=\"0 0 24 24\"\n",
              "       width=\"24px\">\n",
              "    <path d=\"M0 0h24v24H0V0z\" fill=\"none\"/>\n",
              "    <path d=\"M18.56 5.44l.94 2.06.94-2.06 2.06-.94-2.06-.94-.94-2.06-.94 2.06-2.06.94zm-11 1L8.5 8.5l.94-2.06 2.06-.94-2.06-.94L8.5 2.5l-.94 2.06-2.06.94zm10 10l.94 2.06.94-2.06 2.06-.94-2.06-.94-.94-2.06-.94 2.06-2.06.94z\"/><path d=\"M17.41 7.96l-1.37-1.37c-.4-.4-.92-.59-1.43-.59-.52 0-1.04.2-1.43.59L10.3 9.45l-7.72 7.72c-.78.78-.78 2.05 0 2.83L4 21.41c.39.39.9.59 1.41.59.51 0 1.02-.2 1.41-.59l7.78-7.78 2.81-2.81c.8-.78.8-2.07 0-2.86zM5.41 20L4 18.59l7.72-7.72 1.47 1.35L5.41 20z\"/>\n",
              "  </svg>\n",
              "      </button>\n",
              "      \n",
              "  <style>\n",
              "    .colab-df-container {\n",
              "      display:flex;\n",
              "      flex-wrap:wrap;\n",
              "      gap: 12px;\n",
              "    }\n",
              "\n",
              "    .colab-df-convert {\n",
              "      background-color: #E8F0FE;\n",
              "      border: none;\n",
              "      border-radius: 50%;\n",
              "      cursor: pointer;\n",
              "      display: none;\n",
              "      fill: #1967D2;\n",
              "      height: 32px;\n",
              "      padding: 0 0 0 0;\n",
              "      width: 32px;\n",
              "    }\n",
              "\n",
              "    .colab-df-convert:hover {\n",
              "      background-color: #E2EBFA;\n",
              "      box-shadow: 0px 1px 2px rgba(60, 64, 67, 0.3), 0px 1px 3px 1px rgba(60, 64, 67, 0.15);\n",
              "      fill: #174EA6;\n",
              "    }\n",
              "\n",
              "    [theme=dark] .colab-df-convert {\n",
              "      background-color: #3B4455;\n",
              "      fill: #D2E3FC;\n",
              "    }\n",
              "\n",
              "    [theme=dark] .colab-df-convert:hover {\n",
              "      background-color: #434B5C;\n",
              "      box-shadow: 0px 1px 3px 1px rgba(0, 0, 0, 0.15);\n",
              "      filter: drop-shadow(0px 1px 2px rgba(0, 0, 0, 0.3));\n",
              "      fill: #FFFFFF;\n",
              "    }\n",
              "  </style>\n",
              "\n",
              "      <script>\n",
              "        const buttonEl =\n",
              "          document.querySelector('#df-5eb003bf-d4c1-4d17-9aec-ef59f6ffbe36 button.colab-df-convert');\n",
              "        buttonEl.style.display =\n",
              "          google.colab.kernel.accessAllowed ? 'block' : 'none';\n",
              "\n",
              "        async function convertToInteractive(key) {\n",
              "          const element = document.querySelector('#df-5eb003bf-d4c1-4d17-9aec-ef59f6ffbe36');\n",
              "          const dataTable =\n",
              "            await google.colab.kernel.invokeFunction('convertToInteractive',\n",
              "                                                     [key], {});\n",
              "          if (!dataTable) return;\n",
              "\n",
              "          const docLinkHtml = 'Like what you see? Visit the ' +\n",
              "            '<a target=\"_blank\" href=https://colab.research.google.com/notebooks/data_table.ipynb>data table notebook</a>'\n",
              "            + ' to learn more about interactive tables.';\n",
              "          element.innerHTML = '';\n",
              "          dataTable['output_type'] = 'display_data';\n",
              "          await google.colab.output.renderOutput(dataTable, element);\n",
              "          const docLink = document.createElement('div');\n",
              "          docLink.innerHTML = docLinkHtml;\n",
              "          element.appendChild(docLink);\n",
              "        }\n",
              "      </script>\n",
              "    </div>\n",
              "  </div>\n",
              "  "
            ]
          },
          "metadata": {},
          "execution_count": 8
        }
      ]
    },
    {
      "cell_type": "code",
      "source": [
        "cr['model'].value_counts()"
      ],
      "metadata": {
        "colab": {
          "base_uri": "https://localhost:8080/"
        },
        "id": "ZvA1xJaqpJx6",
        "outputId": "324a450c-2d4b-4b77-ef1e-2c2975ece300"
      },
      "execution_count": null,
      "outputs": [
        {
          "output_type": "execute_result",
          "data": {
            "text/plain": [
              "Logestic Regression    4\n",
              "Naive Bayes            4\n",
              "Neural Netwoks         4\n",
              "Name: model, dtype: int64"
            ]
          },
          "metadata": {},
          "execution_count": 4
        }
      ]
    },
    {
      "cell_type": "code",
      "source": [
        "list(cr['model'].value_counts().index)"
      ],
      "metadata": {
        "colab": {
          "base_uri": "https://localhost:8080/"
        },
        "id": "3ljmuiN3pZQV",
        "outputId": "8c1a1e4a-3d9b-4c01-d3c5-66f04437824e"
      },
      "execution_count": null,
      "outputs": [
        {
          "output_type": "execute_result",
          "data": {
            "text/plain": [
              "['Logestic Regression', 'Naive Bayes', 'Neural Netwoks']"
            ]
          },
          "metadata": {},
          "execution_count": 7
        }
      ]
    },
    {
      "cell_type": "code",
      "source": [
        "cr[cr['model']=='Logestic Regression']['accuracy']['precision']"
      ],
      "metadata": {
        "colab": {
          "base_uri": "https://localhost:8080/"
        },
        "id": "ETJuQX-NqmAY",
        "outputId": "72e0da66-8fc4-47db-b622-abb34b25ebee"
      },
      "execution_count": null,
      "outputs": [
        {
          "output_type": "execute_result",
          "data": {
            "text/plain": [
              "0.9821826280623608"
            ]
          },
          "metadata": {},
          "execution_count": 14
        }
      ]
    },
    {
      "cell_type": "code",
      "source": [
        "\n",
        "fig , ax = plt.subplots(4,figsize=(20, 40))\n",
        "accs = []\n",
        "recalls = []\n",
        "fr_scores_fake = []\n",
        "fr_scores_true = []\n",
        "model_names = list(cr['model'].value_counts().index)\n",
        "for model_name in model_names:\n",
        "  accs.append(cr[cr['model']==model_name]['accuracy']['precision'])\n",
        "  recalls.append(cr[cr['model']==model_name]['accuracy']['recall'])\n",
        "  fr_scores_fake.append(cr[cr['model']==model_name]['Fake']['precision'])\n",
        "  fr_scores_true.append(cr[cr['model']==model_name]['True']['precision'])\n",
        "ax[0].bar(model_names,accs)\n",
        "ax[0].set_title('Accuracy')\n",
        "ax[0].set_ylim([0.9, 1])\n",
        "ax[1].bar(model_names,fr_scores_fake)\n",
        "ax[1].set_title('Fake f1-score')\n",
        "ax[1].set_ylim([0.9, 1])\n",
        "ax[2].bar(model_names,fr_scores_true)\n",
        "ax[2].set_title('True f1-score')\n",
        "ax[2].set_ylim([0.9, 1])\n",
        "ax[3].bar(model_names,recalls)\n",
        "ax[3].set_title('Recall')\n",
        "ax[3].set_ylim([0.9, 1])"
      ],
      "metadata": {
        "colab": {
          "base_uri": "https://localhost:8080/",
          "height": 1000
        },
        "id": "mhIQbgacpAWm",
        "outputId": "94e6075e-3673-49e2-b862-41ac803e9831"
      },
      "execution_count": null,
      "outputs": [
        {
          "output_type": "execute_result",
          "data": {
            "text/plain": [
              "(0.9, 1.0)"
            ]
          },
          "metadata": {},
          "execution_count": 20
        },
        {
          "output_type": "display_data",
          "data": {
            "text/plain": [
              "<Figure size 1440x2880 with 4 Axes>"
            ],
            "image/png": "[encoded data removed]"
          },
          "metadata": {
            "needs_background": "light"
          }
        }
      ]
    },
    {
      "cell_type": "code",
      "source": [],
      "metadata": {
        "id": "qdfxuAG_qgpY"
      },
      "execution_count": null,
      "outputs": []
    }
  ]
}